{
 "cells": [
  {
   "cell_type": "markdown",
   "id": "f32478a2",
   "metadata": {},
   "source": [
    "## Breast Cancer Diagnosis Classification\n",
    "### Supervised, Semi-Supervised, and Unsupervised Learning"
   ]
  },
  {
   "cell_type": "markdown",
   "id": "4afc4e17",
   "metadata": {},
   "source": [
    "### The analysis involves performing 50 Monte-Carlo simulations for each of:\n",
    "    \n",
    "    1. Supervised Learning: Training an L1-penalized SVM to classify the data using 5 fold cross validation to choose the penalty parameter\n",
    "    \n",
    "    2. Semi-Supervised Learning/ Self-training: Randomly selecting 50% of the positive class along with 50% of the negative class in the training set as labeled data and the rest as unlabelled data\n",
    "    \n",
    "    3. Unsupervised Learning: Running k-means algorithm on the whole training set. Ignore the labels of the data, and assume k = 2\n",
    "    \n",
    "    4. Spectral Clustering: Performing clustering based on kernels and labelling data using fit-predict method"
   ]
  },
  {
   "cell_type": "markdown",
   "id": "9b4e1d1c",
   "metadata": {},
   "source": [
    "## Importing necessary packages"
   ]
  },
  {
   "cell_type": "code",
   "execution_count": 657,
   "id": "af1fa312",
   "metadata": {},
   "outputs": [],
   "source": [
    "import numpy as np\n",
    "import pandas as pd\n",
    "import matplotlib.pyplot as plt\n",
    "import seaborn as sns\n",
    "\n",
    "from sklearn.model_selection import train_test_split\n",
    "from sklearn.svm import SVC\n",
    "from sklearn.model_selection import GridSearchCV\n",
    "from sklearn.preprocessing import StandardScaler\n",
    "from sklearn.svm import LinearSVC\n",
    "import sklearn.metrics as metrics\n",
    "\n",
    "import warnings # Package to ignore warnings\n",
    "warnings.filterwarnings('ignore')\n",
    "\n",
    "import random\n",
    "from sklearn.cluster import KMeans\n",
    "from sklearn.metrics.pairwise import euclidean_distances\n",
    "from sklearn.cluster import SpectralClustering\n",
    "from sklearn.neighbors import KNeighborsClassifier\n",
    "from sklearn.utils import shuffle"
   ]
  },
  {
   "cell_type": "markdown",
   "id": "e7c1cb32",
   "metadata": {},
   "source": [
    "## UDFs"
   ]
  },
  {
   "cell_type": "code",
   "execution_count": 2,
   "id": "d0aafc58",
   "metadata": {},
   "outputs": [],
   "source": [
    "def fn_test_train_split(test_size=0.2):\n",
    "\n",
    "    '''Test size is the only parameter needed to pass into the function with default 0.2\n",
    "    This function splits the breast cancer dataset into test-train and returns 4 outputs:\n",
    "        a. X Train\n",
    "        b. X Test\n",
    "        c. y Train\n",
    "        d. y Test\n",
    "    '''\n",
    "    \n",
    "    X_train, X_test, y_train, y_test = train_test_split(cancer_data.drop(['id','class'], axis=1), \n",
    "                                                    cancer_data[['class']],\n",
    "                                                    test_size=0.2,\n",
    "                                                    stratify=cancer_data['class']\n",
    "                                                   )\n",
    "    return(X_train, X_test, y_train, y_test)"
   ]
  },
  {
   "cell_type": "code",
   "execution_count": 386,
   "id": "26bfae49",
   "metadata": {},
   "outputs": [],
   "source": [
    "def fn_roc_auc(FPR, TPR):\n",
    "    \n",
    "    '''Function to create ROC curve - Inputs are FPR, TPR'''\n",
    "    \n",
    "    plt.plot(FPR, TPR)\n",
    "    plt.plot([0,1],[0,1])\n",
    "\n",
    "    plt.xlabel('False Positive Rate')\n",
    "    plt.ylabel('True Positive Rate')\n",
    "    plt.title('ROC curve')\n",
    "    \n",
    "    plt.show()"
   ]
  },
  {
   "cell_type": "markdown",
   "id": "fee69716",
   "metadata": {},
   "source": [
    "## Supervised, Semi-Supervised, and Unsupervised Learning"
   ]
  },
  {
   "cell_type": "markdown",
   "id": "a22af4ec",
   "metadata": {},
   "source": [
    "### a) Download the Breast Cancer Wisconsin Data"
   ]
  },
  {
   "cell_type": "code",
   "execution_count": 4,
   "id": "931fd52b",
   "metadata": {},
   "outputs": [],
   "source": [
    "cancer_data = pd.read_csv('../data/wdbc.data', header=None)"
   ]
  },
  {
   "cell_type": "code",
   "execution_count": 5,
   "id": "4849efd7",
   "metadata": {},
   "outputs": [
    {
     "name": "stdout",
     "output_type": "stream",
     "text": [
      "32\n"
     ]
    }
   ],
   "source": [
    "# Since column names are not available, naming them arbitrarily\n",
    "var_name_list = ['id', 'class']\n",
    "\n",
    "for i in range(1,31):\n",
    "    temp_name = 'v' + str(i)\n",
    "    var_name_list.append(temp_name)\n",
    "    \n",
    "print(len(var_name_list))"
   ]
  },
  {
   "cell_type": "code",
   "execution_count": 6,
   "id": "f0da1473",
   "metadata": {},
   "outputs": [],
   "source": [
    "cancer_data.columns = var_name_list"
   ]
  },
  {
   "cell_type": "code",
   "execution_count": 7,
   "id": "5897a2ba",
   "metadata": {},
   "outputs": [
    {
     "data": {
      "text/plain": [
       "(569, 32)"
      ]
     },
     "execution_count": 7,
     "metadata": {},
     "output_type": "execute_result"
    }
   ],
   "source": [
    "cancer_data.shape"
   ]
  },
  {
   "cell_type": "code",
   "execution_count": 8,
   "id": "48ccc81d",
   "metadata": {
    "scrolled": true
   },
   "outputs": [
    {
     "data": {
      "text/html": [
       "<div>\n",
       "<style scoped>\n",
       "    .dataframe tbody tr th:only-of-type {\n",
       "        vertical-align: middle;\n",
       "    }\n",
       "\n",
       "    .dataframe tbody tr th {\n",
       "        vertical-align: top;\n",
       "    }\n",
       "\n",
       "    .dataframe thead th {\n",
       "        text-align: right;\n",
       "    }\n",
       "</style>\n",
       "<table border=\"1\" class=\"dataframe\">\n",
       "  <thead>\n",
       "    <tr style=\"text-align: right;\">\n",
       "      <th></th>\n",
       "      <th>id</th>\n",
       "      <th>class</th>\n",
       "      <th>v1</th>\n",
       "      <th>v2</th>\n",
       "      <th>v3</th>\n",
       "      <th>v4</th>\n",
       "      <th>v5</th>\n",
       "      <th>v6</th>\n",
       "      <th>v7</th>\n",
       "      <th>v8</th>\n",
       "      <th>...</th>\n",
       "      <th>v21</th>\n",
       "      <th>v22</th>\n",
       "      <th>v23</th>\n",
       "      <th>v24</th>\n",
       "      <th>v25</th>\n",
       "      <th>v26</th>\n",
       "      <th>v27</th>\n",
       "      <th>v28</th>\n",
       "      <th>v29</th>\n",
       "      <th>v30</th>\n",
       "    </tr>\n",
       "  </thead>\n",
       "  <tbody>\n",
       "    <tr>\n",
       "      <th>567</th>\n",
       "      <td>927241</td>\n",
       "      <td>M</td>\n",
       "      <td>20.60</td>\n",
       "      <td>29.33</td>\n",
       "      <td>140.10</td>\n",
       "      <td>1265.0</td>\n",
       "      <td>0.11780</td>\n",
       "      <td>0.27700</td>\n",
       "      <td>0.3514</td>\n",
       "      <td>0.152</td>\n",
       "      <td>...</td>\n",
       "      <td>25.740</td>\n",
       "      <td>39.42</td>\n",
       "      <td>184.60</td>\n",
       "      <td>1821.0</td>\n",
       "      <td>0.16500</td>\n",
       "      <td>0.86810</td>\n",
       "      <td>0.9387</td>\n",
       "      <td>0.265</td>\n",
       "      <td>0.4087</td>\n",
       "      <td>0.12400</td>\n",
       "    </tr>\n",
       "    <tr>\n",
       "      <th>568</th>\n",
       "      <td>92751</td>\n",
       "      <td>B</td>\n",
       "      <td>7.76</td>\n",
       "      <td>24.54</td>\n",
       "      <td>47.92</td>\n",
       "      <td>181.0</td>\n",
       "      <td>0.05263</td>\n",
       "      <td>0.04362</td>\n",
       "      <td>0.0000</td>\n",
       "      <td>0.000</td>\n",
       "      <td>...</td>\n",
       "      <td>9.456</td>\n",
       "      <td>30.37</td>\n",
       "      <td>59.16</td>\n",
       "      <td>268.6</td>\n",
       "      <td>0.08996</td>\n",
       "      <td>0.06444</td>\n",
       "      <td>0.0000</td>\n",
       "      <td>0.000</td>\n",
       "      <td>0.2871</td>\n",
       "      <td>0.07039</td>\n",
       "    </tr>\n",
       "  </tbody>\n",
       "</table>\n",
       "<p>2 rows × 32 columns</p>\n",
       "</div>"
      ],
      "text/plain": [
       "         id class     v1     v2      v3      v4       v5       v6      v7  \\\n",
       "567  927241     M  20.60  29.33  140.10  1265.0  0.11780  0.27700  0.3514   \n",
       "568   92751     B   7.76  24.54   47.92   181.0  0.05263  0.04362  0.0000   \n",
       "\n",
       "        v8  ...     v21    v22     v23     v24      v25      v26     v27  \\\n",
       "567  0.152  ...  25.740  39.42  184.60  1821.0  0.16500  0.86810  0.9387   \n",
       "568  0.000  ...   9.456  30.37   59.16   268.6  0.08996  0.06444  0.0000   \n",
       "\n",
       "       v28     v29      v30  \n",
       "567  0.265  0.4087  0.12400  \n",
       "568  0.000  0.2871  0.07039  \n",
       "\n",
       "[2 rows x 32 columns]"
      ]
     },
     "execution_count": 8,
     "metadata": {},
     "output_type": "execute_result"
    }
   ],
   "source": [
    "cancer_data.tail(2)"
   ]
  },
  {
   "cell_type": "code",
   "execution_count": 9,
   "id": "fe63571e",
   "metadata": {},
   "outputs": [
    {
     "data": {
      "text/plain": [
       "B    357\n",
       "M    212\n",
       "Name: class, dtype: int64"
      ]
     },
     "execution_count": 9,
     "metadata": {},
     "output_type": "execute_result"
    }
   ],
   "source": [
    "cancer_data['class'].value_counts()"
   ]
  },
  {
   "cell_type": "markdown",
   "id": "be08c8e5",
   "metadata": {},
   "source": [
    "### b) Monte-Carlo simulation"
   ]
  },
  {
   "cell_type": "markdown",
   "id": "16110f74",
   "metadata": {},
   "source": [
    "#### i) Supervised Learning"
   ]
  },
  {
   "cell_type": "code",
   "execution_count": 388,
   "id": "bc1266d2",
   "metadata": {
    "scrolled": true
   },
   "outputs": [
    {
     "name": "stdout",
     "output_type": "stream",
     "text": [
      "**Test Data** \n",
      "\n",
      "Confusion matrix: [[72  0]\n",
      " [ 2 40]]\n"
     ]
    },
    {
     "data": {
      "image/png": "[encoded data removed]",
      "text/plain": [
       "<Figure size 432x288 with 1 Axes>"
      ]
     },
     "metadata": {
      "needs_background": "light"
     },
     "output_type": "display_data"
    },
    {
     "name": "stdout",
     "output_type": "stream",
     "text": [
      "Average scores:\n",
      "Accuracy - 0.9725146198830407\n",
      "Precision - 0.9729963626929183\n",
      "Recall - 0.9842592592592591\n",
      "F1 Score - 0.9783980265622397\n",
      "AUC - 0.9683201058201056\n",
      "\n",
      "\n",
      "**Train Data**\n",
      "Confusion matrix: [[284   1]\n",
      " [  6 164]]\n"
     ]
    },
    {
     "data": {
      "image/png": "[encoded data removed]",
      "text/plain": [
       "<Figure size 432x288 with 1 Axes>"
      ]
     },
     "metadata": {
      "needs_background": "light"
     },
     "output_type": "display_data"
    },
    {
     "name": "stdout",
     "output_type": "stream",
     "text": [
      "Average scores:\n",
      "Accuracy - 0.9842490842490843\n",
      "Precision - 0.9806466987445285\n",
      "Recall - 0.994502923976608\n",
      "F1 Score - 0.9875202021130299\n",
      "AUC - 0.98078087375301\n"
     ]
    }
   ],
   "source": [
    "accuracy_list_train = []\n",
    "precision_list_train = []\n",
    "recall_list_train = []\n",
    "fscore_list_train = []\n",
    "auc_list_train = []\n",
    "\n",
    "accuracy_list_test = []\n",
    "precision_list_test = []\n",
    "recall_list_test = []\n",
    "fscore_list_test = []\n",
    "auc_list_test = []\n",
    "\n",
    "for i in range(1,31):\n",
    "    \n",
    "    # Splitting data into train-test parts in 80:20 ratio randomly\n",
    "    X_train, X_test, y_train, y_test = fn_test_train_split()\n",
    "    \n",
    "    # Normalizing the data\n",
    "    standarization = StandardScaler()\n",
    "    \n",
    "    # Train data\n",
    "    train_std = standarization.fit(X_train)\n",
    "    X_train_trf = train_std.transform(X_train)\n",
    "    \n",
    "    # Test data\n",
    "    test_std = standarization.fit(X_test)\n",
    "    X_test_trf = train_std.transform(X_test)\n",
    "    \n",
    "    # Model\n",
    "    m_svm_l1 = LinearSVC(penalty='l1',dual=False)\n",
    "    m_svm_l1 = GridSearchCV(estimator=m_svm_l1, param_grid={'C': np.logspace(-6,12,24), 'tol':[0.0001,0.00001,0.000001] } ,cv=5)\n",
    "    m_svm_l1.fit(X_train_trf, y_train['class'])\n",
    "    \n",
    "    dict_labels = {'B': 0, 'M': 1}\n",
    "    \n",
    "    # Test Data: Predict\n",
    "    y_pred_l1_svm = m_svm_l1.predict(X_test_trf)\n",
    "    accuracy_list_test.append(metrics.accuracy_score(y_test['class'],y_pred_l1_svm))\n",
    "    precision_list_test.append(metrics.precision_score(y_test['class'],y_pred_l1_svm, pos_label='B'))\n",
    "    recall_list_test.append(metrics.recall_score(y_test['class'],y_pred_l1_svm, pos_label='B'))\n",
    "    fscore_list_test.append(metrics.f1_score(y_test['class'],y_pred_l1_svm, pos_label='B'))\n",
    "\n",
    "    \n",
    "    y_int = y_test['class'].map(dict_labels)\n",
    "    y_pred_int = pd.Series(y_pred_l1_svm).map(dict_labels)\n",
    "    fpr, tpr, thresholds = metrics.roc_curve(y_int, y_pred_int)\n",
    "    auc_list_test.append(metrics.auc(fpr, tpr))\n",
    "    \n",
    "    if i == 30:\n",
    "        print('**Test Data** \\n')\n",
    "        \n",
    "        confusion_matrix_test = metrics.confusion_matrix(y_test['class'], y_pred_l1_svm)\n",
    "        print(f'Confusion matrix: {confusion_matrix_test}')\n",
    "        fn_roc_auc(fpr, tpr)\n",
    "        \n",
    "        print(f'Average scores:')\n",
    "        print(f'Accuracy - {sum(accuracy_list_test)/len(accuracy_list_test)}')\n",
    "        print(f'Precision - {sum(precision_list_test)/len(precision_list_test)}')\n",
    "        print(f'Recall - {sum(recall_list_test)/len(recall_list_test)}')\n",
    "        print(f'F1 Score - {sum(fscore_list_test)/len(fscore_list_test)}')\n",
    "        print(f'AUC - {sum(auc_list_test)/len(auc_list_test)}')\n",
    "        \n",
    "    # Train Data: Predict\n",
    "    y_pred_l1_svm = m_svm_l1.predict(X_train_trf)\n",
    "    accuracy_list_train.append(metrics.accuracy_score(y_train['class'],y_pred_l1_svm))\n",
    "    precision_list_train.append(metrics.precision_score(y_train['class'],y_pred_l1_svm, pos_label='B'))\n",
    "    recall_list_train.append(metrics.recall_score(y_train['class'],y_pred_l1_svm, pos_label='B'))\n",
    "    fscore_list_train.append(metrics.f1_score(y_train['class'],y_pred_l1_svm, pos_label='B'))\n",
    "    \n",
    "    y_int = y_train['class'].map(dict_labels)\n",
    "    y_pred_int = pd.Series(y_pred_l1_svm).map(dict_labels)\n",
    "    fpr, tpr, thresholds = metrics.roc_curve(y_int, y_pred_int)\n",
    "    auc_list_train.append(metrics.auc(fpr, tpr))\n",
    "    \n",
    "    if i == 30:\n",
    "        print('\\n\\n**Train Data**')\n",
    "        \n",
    "        confusion_matrix_train = metrics.confusion_matrix(y_train['class'], y_pred_l1_svm)\n",
    "        print(f'Confusion matrix: {confusion_matrix_train}')\n",
    "        fn_roc_auc(fpr, tpr)\n",
    "    \n",
    "        print(f'Average scores:')\n",
    "        print(f'Accuracy - {sum(accuracy_list_train)/len(accuracy_list_train)}')\n",
    "        print(f'Precision - {sum(precision_list_train)/len(precision_list_train)}')\n",
    "        print(f'Recall - {sum(recall_list_train)/len(recall_list_train)}')\n",
    "        print(f'F1 Score - {sum(fscore_list_train)/len(fscore_list_train)}')\n",
    "        print(f'AUC - {sum(auc_list_train)/len(auc_list_train)}')\n"
   ]
  },
  {
   "cell_type": "markdown",
   "id": "b1e03dc1",
   "metadata": {},
   "source": [
    "#### ii) Semi-Supervised Learning"
   ]
  },
  {
   "cell_type": "code",
   "execution_count": 988,
   "id": "6e5ab304",
   "metadata": {},
   "outputs": [
    {
     "name": "stdout",
     "output_type": "stream",
     "text": [
      "**Test Data** \n",
      "\n",
      "Confusion matrix: [[39 33]\n",
      " [ 0 42]]\n"
     ]
    },
    {
     "data": {
      "image/png": "[encoded data removed]",
      "text/plain": [
       "<Figure size 432x288 with 1 Axes>"
      ]
     },
     "metadata": {
      "needs_background": "light"
     },
     "output_type": "display_data"
    },
    {
     "name": "stdout",
     "output_type": "stream",
     "text": [
      "Average scores:\n",
      "Accuracy - 0.7105263157894737\n",
      "Precision - 1.0\n",
      "Recall - 0.5416666666666666\n",
      "F1 Score - 0.7027027027027027\n",
      "AUC - 0.7708333333333334\n",
      "\n",
      "\n",
      "**Train Data**\n",
      "Confusion matrix: [[ 80 205]\n",
      " [ 48 122]]\n"
     ]
    },
    {
     "data": {
      "image/png": "[encoded data removed]",
      "text/plain": [
       "<Figure size 432x288 with 1 Axes>"
      ]
     },
     "metadata": {
      "needs_background": "light"
     },
     "output_type": "display_data"
    },
    {
     "name": "stdout",
     "output_type": "stream",
     "text": [
      "Average scores:\n",
      "Accuracy - 0.44395604395604393\n",
      "Precision - 0.625\n",
      "Recall - 0.2807017543859649\n",
      "F1 Score - 0.387409200968523\n",
      "AUC - 0.4991744066047472\n"
     ]
    }
   ],
   "source": [
    "for i in range(1,31):\n",
    "    \n",
    "    # Obtaining train test datasets\n",
    "    X_train, X_test, y_train, y_test = fn_test_train_split()\n",
    "\n",
    "    # Splitting data into 50% each \n",
    "\n",
    "    b_label_index = y_train[y_train['class'] == 'B'].index.tolist()\n",
    "    random.shuffle(b_label_index) #Ensuring randomization\n",
    "    b_label_index_half = b_label_index[0:int(len(b_label_index)/2)]\n",
    "    b_label_index_2nd_half = b_label_index[int(len(b_label_index)/2):]\n",
    "\n",
    "    m_label_index = y_train[y_train['class'] == 'M'].index.tolist()\n",
    "    random.shuffle(m_label_index)\n",
    "    m_label_index_half = m_label_index[0:int(len(m_label_index)/2)]\n",
    "    m_label_index_2nd_half = m_label_index[int(len(m_label_index)/2):]\n",
    "\n",
    "    # Separating labeled and unlabeled data\n",
    "\n",
    "    #Labeled Data\n",
    "    y_train_b_label = y_train.filter(items = b_label_index_half, axis=0)\n",
    "    y_train_m_label = y_train.filter(items = m_label_index_half, axis=0)\n",
    "    y_train_label = y_train_b_label.append(y_train_m_label)\n",
    "\n",
    "    X_train_b_label = X_train.filter(items = b_label_index_half, axis=0)\n",
    "    X_train_m_label = X_train.filter(items = m_label_index_half, axis=0)\n",
    "    X_train_label = X_train_b_label.append(X_train_m_label)\n",
    "\n",
    "    #Non-Labeled Data\n",
    "    y_train_b_nonlabel = y_train.filter(items = b_label_index_2nd_half, axis=0)\n",
    "    y_train_m_nonlabel = y_train.filter(items = m_label_index_2nd_half, axis=0)\n",
    "    y_train_nonlabel = y_train_b_nonlabel.append(y_train_m_nonlabel)\n",
    "\n",
    "    X_train_b_nonlabel = X_train.filter(items = b_label_index_2nd_half, axis=0)\n",
    "    X_train_m_nonlabel = X_train.filter(items = m_label_index_2nd_half, axis=0)\n",
    "    X_train_nonlabel = X_train_b_nonlabel.append(X_train_m_nonlabel)\n",
    "\n",
    "    # Normalizing the data\n",
    "    standarization = StandardScaler()\n",
    "\n",
    "    # Train data\n",
    "    train_std = standarization.fit(X_train_label)\n",
    "    X_train_trf = train_std.transform(X_train_label)\n",
    "\n",
    "    # Test data\n",
    "    test_std = standarization.fit(X_test)\n",
    "    X_test_trf = train_std.transform(X_test)\n",
    "\n",
    "    # Model\n",
    "\n",
    "    m_svm_l1_semi = LinearSVC(penalty='l1',dual=False)\n",
    "    m_svm_l1_semi = GridSearchCV(estimator=m_svm_l1_semi, param_grid={'C': np.logspace(-6,12,24), 'tol':[0.0001,0.00001,0.000001] } ,cv=5)\n",
    "    m_svm_l1_semi.fit(X_train_trf, y_train_label['class'])\n",
    "\n",
    "\n",
    "    X_train_nonlabel_deduct = X_train_nonlabel.copy() \n",
    "\n",
    "    while len(X_train_nonlabel_deduct) > 0:   \n",
    "        dist_list = list(m_svm_l1_semi.decision_function(X_train_nonlabel_deduct))\n",
    "        dist_farthest = max(dist_list)\n",
    "        dist_fathest_index = dist_list.index(dist_farthest)\n",
    "\n",
    "        tempx = pd.DataFrame(X_train_nonlabel_deduct.iloc[dist_fathest_index-1]).T\n",
    "        pred_y_unlabel = m_svm_l1_semi.predict(tempx)[0]\n",
    "\n",
    "        X_train_label = X_train_label.append(tempx)\n",
    "        y_train_label = y_train_label.append({'class': pred_y_unlabel[0]}, ignore_index=True)\n",
    "\n",
    "        train_std = standarization.fit(X_train_label)\n",
    "        X_train_trf = train_std.transform(X_train_label)\n",
    "\n",
    "        m_svm_l1_semi = LinearSVC(penalty='l1',dual=False)\n",
    "        m_svm_l1_semi = GridSearchCV(estimator=m_svm_l1_semi, param_grid={'C': np.logspace(-3,6,8), 'tol':[0.0001,0.000001] } ,cv=5)\n",
    "        m_svm_l1_semi.fit(X_train_trf, y_train_label['class'])\n",
    "\n",
    "        X_train_nonlabel_deduct.drop(index=tempx.index[0], inplace= True)\n",
    "\n",
    "    accuracy_list_train = []\n",
    "    precision_list_train = []\n",
    "    recall_list_train = []\n",
    "    fscore_list_train = []\n",
    "    auc_list_train = []\n",
    "\n",
    "    accuracy_list_test = []\n",
    "    precision_list_test = []\n",
    "    recall_list_test = []\n",
    "    fscore_list_test = []\n",
    "    auc_list_test = []\n",
    "\n",
    "    dict_labels = {'B': 0, 'M': 1}\n",
    "\n",
    "    # Test Data: Predict\n",
    "    y_pred_l1_svm_semi = m_svm_l1_semi.predict(X_test_trf)\n",
    "    accuracy_list_test.append(metrics.accuracy_score(y_test['class'],y_pred_l1_svm_semi))\n",
    "    precision_list_test.append(metrics.precision_score(y_test['class'],y_pred_l1_svm_semi, pos_label='B'))\n",
    "    recall_list_test.append(metrics.recall_score(y_test['class'],y_pred_l1_svm_semi, pos_label='B'))\n",
    "    fscore_list_test.append(metrics.f1_score(y_test['class'],y_pred_l1_svm_semi, pos_label='B'))\n",
    "\n",
    "    y_int = y_test['class'].map(dict_labels)\n",
    "    y_pred_int = pd.Series(y_pred_l1_svm_semi).map(dict_labels)\n",
    "    fpr, tpr, thresholds = metrics.roc_curve(y_int, y_pred_int)\n",
    "    auc_list_test.append(metrics.auc(fpr, tpr))\n",
    "\n",
    "    if i == 30:\n",
    "        print('**Test Data** \\n')\n",
    "\n",
    "        confusion_matrix_test = metrics.confusion_matrix(y_test['class'], y_pred_l1_svm_semi)\n",
    "        print(f'Confusion matrix: {confusion_matrix_test}')\n",
    "        fn_roc_auc(fpr, tpr)\n",
    "\n",
    "        print(f'Average scores:')\n",
    "        print(f'Accuracy - {sum(accuracy_list_test)/len(accuracy_list_test)}')\n",
    "        print(f'Precision - {sum(precision_list_test)/len(precision_list_test)}')\n",
    "        print(f'Recall - {sum(recall_list_test)/len(recall_list_test)}')\n",
    "        print(f'F1 Score - {sum(fscore_list_test)/len(fscore_list_test)}')\n",
    "        print(f'AUC - {sum(auc_list_test)/len(auc_list_test)}')\n",
    "\n",
    "    # Train Data: Predict\n",
    "    y_pred_l1_svm_semi = m_svm_l1_semi.predict(X_train_trf)\n",
    "    accuracy_list_train.append(metrics.accuracy_score(y_train['class'],y_pred_l1_svm_semi))\n",
    "    precision_list_train.append(metrics.precision_score(y_train['class'],y_pred_l1_svm_semi, pos_label='B'))\n",
    "    recall_list_train.append(metrics.recall_score(y_train['class'],y_pred_l1_svm_semi, pos_label='B'))\n",
    "    fscore_list_train.append(metrics.f1_score(y_train['class'],y_pred_l1_svm_semi, pos_label='B'))\n",
    "\n",
    "    y_int = y_train['class'].map(dict_labels)\n",
    "    y_pred_int = pd.Series(y_pred_l1_svm_semi).map(dict_labels)\n",
    "    fpr, tpr, thresholds = metrics.roc_curve(y_int, y_pred_int)\n",
    "    auc_list_train.append(metrics.auc(fpr, tpr))\n",
    "\n",
    "    if i == 30:\n",
    "        print('\\n\\n**Train Data**')\n",
    "\n",
    "        confusion_matrix_train = metrics.confusion_matrix(y_train['class'], y_pred_l1_svm_semi)\n",
    "        print(f'Confusion matrix: {confusion_matrix_train}')\n",
    "        fn_roc_auc(fpr, tpr)\n",
    "\n",
    "        print(f'Average scores:')\n",
    "        print(f'Accuracy - {sum(accuracy_list_train)/len(accuracy_list_train)}')\n",
    "        print(f'Precision - {sum(precision_list_train)/len(precision_list_train)}')\n",
    "        print(f'Recall - {sum(recall_list_train)/len(recall_list_train)}')\n",
    "        print(f'F1 Score - {sum(fscore_list_train)/len(fscore_list_train)}')\n",
    "        print(f'AUC - {sum(auc_list_train)/len(auc_list_train)}')"
   ]
  },
  {
   "cell_type": "markdown",
   "id": "3cd5390b",
   "metadata": {},
   "source": [
    "#### iii) Unsupervised Learning"
   ]
  },
  {
   "cell_type": "markdown",
   "id": "634068e9",
   "metadata": {},
   "source": [
    "- We can ensure that the algorithm was not trapped in a local minima by running the algorithm multiple times and initializing it randomly"
   ]
  },
  {
   "cell_type": "code",
   "execution_count": 558,
   "id": "05147ea9",
   "metadata": {
    "scrolled": false
   },
   "outputs": [
    {
     "name": "stdout",
     "output_type": "stream",
     "text": [
      "**Train Data**\n",
      "\n",
      "Confusion matrix: \n",
      " [[284   1]\n",
      " [ 67 103]]\n"
     ]
    },
    {
     "data": {
      "image/png": "[encoded data removed]",
      "text/plain": [
       "<Figure size 432x288 with 1 Axes>"
      ]
     },
     "metadata": {
      "needs_background": "light"
     },
     "output_type": "display_data"
    },
    {
     "name": "stdout",
     "output_type": "stream",
     "text": [
      "Average scores:\n",
      "Accuracy - 0.84967032967033\n",
      "Precision - 0.9919935191039234\n",
      "Recall - 0.6025490196078429\n",
      "F1 Score - 0.7494722260262587\n",
      "AUC - 0.799812521499828\n"
     ]
    }
   ],
   "source": [
    "accuracy_list_train = []\n",
    "precision_list_train = []\n",
    "recall_list_train = []\n",
    "fscore_list_train = []\n",
    "auc_list_train = []\n",
    "\n",
    "for i in range(1,31):\n",
    "    \n",
    "    X_train, X_test, y_train, y_test = fn_test_train_split()\n",
    "    X_train_dup = X_train.copy()\n",
    "    \n",
    "    kmeans = KMeans(n_clusters=2, init='random').fit(X_train)\n",
    "    kmeans_pred = kmeans.predict(X_train)\n",
    "    X_train_dup['cluster'] = kmeans.labels_\n",
    "    \n",
    "    \n",
    "    # Computing cluster centers & calculating distance\n",
    "    cc = kmeans.cluster_centers_\n",
    "    temp0 = np.reshape(cc[0], (1,-1))\n",
    "    temp1 = np.reshape(cc[1], (1,-1))\n",
    "    \n",
    "    X_train_dup['dist0'] = euclidean_distances(X_train, temp0)\n",
    "    X_train_dup['dist1'] = euclidean_distances(X_train, temp1)\n",
    "    \n",
    "    top30_cluster0_index = list(X_train_dup[X_train_dup['cluster'] == 0]['dist0'].sort_values().index[0:30])\n",
    "    top30_cluster1_index = list(X_train_dup[X_train_dup['cluster'] == 1]['dist1'].sort_values().index[0:30])\n",
    "    \n",
    "    majority_label_c0 = y_train.filter(items = top30_cluster0_index, axis=0).value_counts().sort_values().index[-1][0]\n",
    "    majority_label_c1 = y_train.filter(items = top30_cluster1_index, axis=0).value_counts().sort_values().index[-1][0]\n",
    "    \n",
    "    pred_label = []\n",
    "    \n",
    "    for p in range(len(X_train)):\n",
    "        if X_train_dup[['cluster']].iloc[p][0] == 0:\n",
    "            pred_label.append(majority_label_c0)\n",
    "        else:\n",
    "            pred_label.append(majority_label_c1)\n",
    "    pred_label = pd.Series(pred_label)\n",
    "    \n",
    "    \n",
    "    y_int = y_train['class'].map(dict_labels)\n",
    "    y_pred_int = pred_label.map(dict_labels)\n",
    "    fpr, tpr, thresholds = metrics.roc_curve(y_int, y_pred_int)\n",
    "    auc_list_train.append(metrics.auc(fpr, tpr))\n",
    "    \n",
    "    accuracy_list_train.append(metrics.accuracy_score(y_int, y_pred_int))\n",
    "    precision_list_train.append(metrics.precision_score(y_int, y_pred_int))\n",
    "    recall_list_train.append(metrics.recall_score(y_int, y_pred_int))\n",
    "    fscore_list_train.append(metrics.f1_score(y_int, y_pred_int))\n",
    "\n",
    "\n",
    "    if i == 30:\n",
    "        print('**Train Data**\\n')\n",
    "\n",
    "        confusion_matrix_train = metrics.confusion_matrix(y_int, y_pred_int)\n",
    "        print(f'Confusion matrix: \\n {confusion_matrix_train}')\n",
    "        fn_roc_auc(fpr, tpr)\n",
    "\n",
    "        print(f'Average scores:')\n",
    "        print(f'Accuracy - {sum(accuracy_list_train)/len(accuracy_list_train)}')\n",
    "        print(f'Precision - {sum(precision_list_train)/len(precision_list_train)}')\n",
    "        print(f'Recall - {sum(recall_list_train)/len(recall_list_train)}')\n",
    "        print(f'F1 Score - {sum(fscore_list_train)/len(fscore_list_train)}')\n",
    "        print(f'AUC - {sum(auc_list_train)/len(auc_list_train)}')\n"
   ]
  },
  {
   "cell_type": "code",
   "execution_count": 557,
   "id": "7eadef90",
   "metadata": {},
   "outputs": [
    {
     "name": "stdout",
     "output_type": "stream",
     "text": [
      "**Test Data**\n",
      "\n",
      "Confusion matrix: \n",
      " [[72  0]\n",
      " [12 30]]\n"
     ]
    },
    {
     "data": {
      "image/png": "[encoded data removed]",
      "text/plain": [
       "<Figure size 432x288 with 1 Axes>"
      ]
     },
     "metadata": {
      "needs_background": "light"
     },
     "output_type": "display_data"
    },
    {
     "name": "stdout",
     "output_type": "stream",
     "text": [
      "Average scores:\n",
      "Accuracy - 0.8529239766081874\n",
      "Precision - 0.9885985635232948\n",
      "Recall - 0.6079365079365078\n",
      "F1 Score - 0.7491181127220847\n",
      "AUC - 0.8018849206349206\n"
     ]
    }
   ],
   "source": [
    "accuracy_list_test = []\n",
    "precision_list_test = []\n",
    "recall_list_test = []\n",
    "fscore_list_test = []\n",
    "auc_list_test = []\n",
    "\n",
    "for i in range(1,31):\n",
    "        \n",
    "    X_train, X_test, y_train, y_test = fn_test_train_split()\n",
    "    X_test_dup = X_test.copy()\n",
    "    \n",
    "    kmeans = KMeans(n_clusters=2, init='random').fit(X_test)\n",
    "    kmeans_pred = kmeans.predict(X_test)\n",
    "    X_test_dup['cluster'] = kmeans.labels_\n",
    "    \n",
    "    \n",
    "    # Computing cluster centers & calculating distance\n",
    "    cc = kmeans.cluster_centers_\n",
    "    temp0 = np.reshape(cc[0], (1,-1))\n",
    "    temp1 = np.reshape(cc[1], (1,-1))\n",
    "    \n",
    "    X_test_dup['dist0'] = euclidean_distances(X_test, temp0)\n",
    "    X_test_dup['dist1'] = euclidean_distances(X_test, temp1)\n",
    "    \n",
    "    top30_cluster0_index = list(X_test_dup[X_test_dup['cluster'] == 0]['dist0'].sort_values().index[0:30])\n",
    "    top30_cluster1_index = list(X_test_dup[X_test_dup['cluster'] == 1]['dist1'].sort_values().index[0:30])\n",
    "    \n",
    "    majority_label_c0 = y_test.filter(items = top30_cluster0_index, axis=0).value_counts().sort_values().index[-1][0]\n",
    "    majority_label_c1 = y_test.filter(items = top30_cluster1_index, axis=0).value_counts().sort_values().index[-1][0]\n",
    "    \n",
    "    pred_label = []\n",
    "    \n",
    "    for p in range(len(X_test)):\n",
    "        if X_test_dup[['cluster']].iloc[p][0] == 0:\n",
    "            pred_label.append(majority_label_c0)\n",
    "        else:\n",
    "            pred_label.append(majority_label_c1)\n",
    "    pred_label = pd.Series(pred_label)\n",
    "    \n",
    "    \n",
    "    y_int = y_test['class'].map(dict_labels)\n",
    "    y_pred_int = pred_label.map(dict_labels)\n",
    "    fpr, tpr, thresholds = metrics.roc_curve(y_int, y_pred_int)\n",
    "    auc_list_test.append(metrics.auc(fpr, tpr))\n",
    "    \n",
    "    accuracy_list_test.append(metrics.accuracy_score(y_int, y_pred_int))\n",
    "    precision_list_test.append(metrics.precision_score(y_int, y_pred_int))\n",
    "    recall_list_test.append(metrics.recall_score(y_int, y_pred_int))\n",
    "    fscore_list_test.append(metrics.f1_score(y_int, y_pred_int))\n",
    "\n",
    "\n",
    "    if i == 30:\n",
    "        print('**Test Data**\\n')\n",
    "\n",
    "        confusion_matrix_train = metrics.confusion_matrix(y_int, y_pred_int)\n",
    "        print(f'Confusion matrix: \\n {confusion_matrix_train}')\n",
    "        fn_roc_auc(fpr, tpr)\n",
    "\n",
    "        print(f'Average scores:')\n",
    "        print(f'Accuracy - {sum(accuracy_list_test)/len(accuracy_list_train)}')\n",
    "        print(f'Precision - {sum(precision_list_test)/len(precision_list_test)}')\n",
    "        print(f'Recall - {sum(recall_list_test)/len(recall_list_test)}')\n",
    "        print(f'F1 Score - {sum(fscore_list_test)/len(fscore_list_test)}')\n",
    "        print(f'AUC - {sum(auc_list_test)/len(auc_list_test)}')\n",
    "        \n",
    "    "
   ]
  },
  {
   "cell_type": "markdown",
   "id": "008aa350",
   "metadata": {},
   "source": [
    "#### iv) Spectral Learning"
   ]
  },
  {
   "cell_type": "code",
   "execution_count": 563,
   "id": "f887dce8",
   "metadata": {},
   "outputs": [
    {
     "name": "stdout",
     "output_type": "stream",
     "text": [
      "\n",
      "\n",
      "**Train Data**\n",
      "Confusion matrix: [[285   0]\n",
      " [170   0]]\n"
     ]
    },
    {
     "data": {
      "image/png": "[encoded data removed]",
      "text/plain": [
       "<Figure size 432x288 with 1 Axes>"
      ]
     },
     "metadata": {
      "needs_background": "light"
     },
     "output_type": "display_data"
    },
    {
     "name": "stdout",
     "output_type": "stream",
     "text": [
      "Average scores:\n",
      "Accuracy - 0.6298168498168498\n",
      "Precision - 0.3349396135265701\n",
      "Recall - 0.013529411764705882\n",
      "F1 Score - 0.024939196436055834\n",
      "AUC - 0.5054781561747506\n"
     ]
    }
   ],
   "source": [
    "accuracy_list_train = []\n",
    "precision_list_train = []\n",
    "recall_list_train = []\n",
    "fscore_list_train = []\n",
    "auc_list_train = []\n",
    "    \n",
    "for i in range(1,31):\n",
    "    X_train, X_test, y_train, y_test = fn_test_train_split()\n",
    "    \n",
    "    # Normalizing the data\n",
    "    standarization = StandardScaler()\n",
    "    \n",
    "    # Train data\n",
    "    train_std = standarization.fit(X_train)\n",
    "    X_train_trf = train_std.transform(X_train)\n",
    "    \n",
    "    # Test data\n",
    "    test_std = standarization.fit(X_test)\n",
    "    X_test_trf = train_std.transform(X_test)\n",
    "    \n",
    "    spectral_model = SpectralClustering(n_clusters=2, affinity='rbf', gamma=1, assign_labels='discretize')\n",
    "    spectral_model_label = spectral_model.fit_predict(X_train_trf)\n",
    "    \n",
    "    # Using KNN classifier to assist with majority polling\n",
    "    knn_model = KNeighborsClassifier(n_neighbors=4)\n",
    "    knn_model.fit(X_train_trf, spectral_model_label)\n",
    "    knn_model_label = knn.predict(X_test_trf)\n",
    "    \n",
    "    \n",
    "    train_rows = X_train_trf.shape[0]\n",
    "    test_rows = X_test_trf.shape[0]\n",
    "    y_train_pred = np.zeros(train_rows) #Initializing with zeros\n",
    "    y_test_pred = np.zeros(test_rows)\n",
    "    y_train_int = y_train['class'].map(dict_labels) # Mapping string to number\n",
    "\n",
    "    for num_clusters in range(0,2):\n",
    "\n",
    "        # For each cluster, assigning the labels\n",
    "        spectral_index = np.where(spectral_model_label == num_clusters)\n",
    "        knn_index = np.where(knn_model_label == num_clusters)\n",
    "\n",
    "        majority_label = y_train_int.iloc[knn_index].value_counts().sort_values().index[-1]\n",
    "\n",
    "        y_train_pred[spectral_index] = majority_label\n",
    "        y_test_pred[knn_index] = majority_label\n",
    "    \n",
    "    accuracy_list_train.append(metrics.accuracy_score(y_train_int,y_train_pred))\n",
    "    precision_list_train.append(metrics.precision_score(y_train_int,y_train_pred))\n",
    "    recall_list_train.append(metrics.recall_score(y_train_int,y_train_pred))\n",
    "    fscore_list_train.append(metrics.f1_score(y_train_int,y_train_pred))\n",
    "    \n",
    "    fpr, tpr, thresholds = metrics.roc_curve(y_train_int, y_train_pred)\n",
    "    auc_list_train.append(metrics.auc(fpr, tpr))    \n",
    "    \n",
    "    if i == 30:\n",
    "        print('\\n\\n**Train Data**')\n",
    "        \n",
    "        confusion_matrix_train = metrics.confusion_matrix(y_train_int, y_train_pred)\n",
    "        print(f'Confusion matrix: {confusion_matrix_train}')\n",
    "        fn_roc_auc(fpr, tpr)\n",
    "    \n",
    "        print(f'Average scores:')\n",
    "        print(f'Accuracy - {sum(accuracy_list_train)/len(accuracy_list_train)}')\n",
    "        print(f'Precision - {sum(precision_list_train)/len(precision_list_train)}')\n",
    "        print(f'Recall - {sum(recall_list_train)/len(recall_list_train)}')\n",
    "        print(f'F1 Score - {sum(fscore_list_train)/len(fscore_list_train)}')\n",
    "        print(f'AUC - {sum(auc_list_train)/len(auc_list_train)}')"
   ]
  },
  {
   "cell_type": "markdown",
   "id": "399446d4",
   "metadata": {},
   "source": [
    "#### v) Comparing all model results obtained above"
   ]
  },
  {
   "cell_type": "markdown",
   "id": "b0ada7c6",
   "metadata": {},
   "source": [
    "The average scores for the train datasets of each model are:\n",
    "      \n",
    "      1. Supervised learning\n",
    "            Accuracy - 0.98\n",
    "            Precision - 0.98\n",
    "            Recall - 0.99\n",
    "            F1 Score - 0.99\n",
    "            AUC - 0.98\n",
    "      \n",
    "      2. Semi-supervised learning\n",
    "            Accuracy - 0.71\n",
    "            Precision - 1.0\n",
    "            Recall - 0.54\n",
    "            F1 Score - 0.70\n",
    "            AUC - 0.77\n",
    "\n",
    "      3.Unsupervised learning\n",
    "            Accuracy - 0.85\n",
    "            Precision - 0.99\n",
    "            Recall - 0.60\n",
    "            F1 Score - 0.75\n",
    "            AUC - 0.80\n",
    "      \n",
    "      4.Spectral clustering\n",
    "            Accuracy - 0.63\n",
    "            Precision - 0.33\n",
    "            Recall - 0.013\n",
    "            F1 Score - 0.025\n",
    "            AUC - 0.51\n",
    "\n",
    "The supervised learning model performs the best in each scenario, with respect to both train and test datasets"
   ]
  },
  {
   "cell_type": "markdown",
   "id": "d1d868e1",
   "metadata": {},
   "source": [
    "## Sources \n",
    "\n",
    "1. https://stackoverflow.com/questions/34842405/parameter-stratify-from-method-train-test-split-scikit-learn\n",
    "2. https://scikit-learn.org/stable/modules/generated/sklearn.model_selection.train_test_split.html\n",
    "3. https://scikit-learn.org/stable/modules/generated/sklearn.preprocessing.StandardScaler.html\n",
    "4. https://scikit-learn.org/stable/modules/generated/sklearn.svm.LinearSVC.html\n",
    "5. https://scikit-learn.org/stable/modules/generated/sklearn.model_selection.GridSearchCV.html\n",
    "6. https://datatofish.com/filter-pandas-dataframe/\n",
    "7. https://pandas.pydata.org/docs/reference/api/pandas.Series.append.html\n",
    "8. https://scikit-learn.org/stable/modules/generated/sklearn.svm.SVC.html\n",
    "9. https://scikit-learn.org/stable/modules/generated/sklearn.cluster.KMeans.html\n",
    "10. https://scikit-learn.org/stable/modules/generated/sklearn.metrics.pairwise.euclidean_distances.html\n",
    "11. https://scikit-learn.org/stable/modules/generated/sklearn.cluster.SpectralClustering.html\n",
    "12. https://scikit-learn.org/stable/modules/generated/sklearn.neighbors.KNeighborsClassifier.html\n",
    "13. https://stackoverflow.com/questions/29576430/shuffle-dataframe-rows\n"
   ]
  }
 ],
 "metadata": {
  "kernelspec": {
   "display_name": "Python 3",
   "language": "python",
   "name": "python3"
  },
  "language_info": {
   "codemirror_mode": {
    "name": "ipython",
    "version": 3
   },
   "file_extension": ".py",
   "mimetype": "text/x-python",
   "name": "python",
   "nbconvert_exporter": "python",
   "pygments_lexer": "ipython3",
   "version": "3.8.8"
  }
 },
 "nbformat": 4,
 "nbformat_minor": 5
}
